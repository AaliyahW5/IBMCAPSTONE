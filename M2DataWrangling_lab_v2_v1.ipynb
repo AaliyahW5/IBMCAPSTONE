{
  "cells": [
    {
      "cell_type": "markdown",
      "metadata": {
        "id": "d8be15d8-fa8b-4b4f-94d7-39ed53321abd"
      },
      "source": [
        "<p style=\"text-align:center\">\n",
        "    <a href=\"https://skills.network\" target=\"_blank\">\n",
        "    <img src=\"https://cf-courses-data.s3.us.cloud-object-storage.appdomain.cloud/assets/logos/SN_web_lightmode.png\" width=\"200\" alt=\"Skills Network Logo\"  />\n",
        "    </a>\n",
        "</p>\n"
      ]
    },
    {
      "cell_type": "markdown",
      "metadata": {
        "id": "ee706056-1bac-4cb0-820e-b9824ebdb12a"
      },
      "source": [
        "# **Data Wrangling Lab**\n"
      ]
    },
    {
      "cell_type": "markdown",
      "metadata": {
        "id": "51dc38be-5625-4c22-b622-dca1d20a2134"
      },
      "source": [
        "Estimated time needed: **45** minutes\n"
      ]
    },
    {
      "cell_type": "markdown",
      "metadata": {
        "id": "03086336-ee63-4d6a-a1ce-d243006d7057"
      },
      "source": [
        "In this lab, you will perform data wrangling tasks to prepare raw data for analysis. Data wrangling involves cleaning, transforming, and organizing data into a structured format suitable for analysis. This lab focuses on tasks like identifying inconsistencies, encoding categorical variables, and feature transformation.\n"
      ]
    },
    {
      "cell_type": "markdown",
      "metadata": {
        "id": "e223ac3e-4f39-44fa-a3fe-e1e0badf69ac"
      },
      "source": [
        "## Objectives\n"
      ]
    },
    {
      "cell_type": "markdown",
      "metadata": {
        "id": "1cddaf13-6966-4047-aa87-daebb0727a7b"
      },
      "source": [
        "After completing this lab, you will be able to:\n"
      ]
    },
    {
      "cell_type": "markdown",
      "metadata": {
        "id": "b268cb62-6e7c-4d79-be7c-d946a22c6923"
      },
      "source": [
        "- Identify and remove inconsistent data entries.\n",
        "\n",
        "- Encode categorical variables for analysis.\n",
        "\n",
        "- Handle missing values using multiple imputation strategies.\n",
        "\n",
        "- Apply feature scaling and transformation techniques.\n"
      ]
    },
    {
      "cell_type": "markdown",
      "metadata": {
        "id": "2c9b4baf-895a-4feb-9b7e-a15aedf316ad"
      },
      "source": [
        "#### Intsall the required libraries\n"
      ]
    },
    {
      "cell_type": "code",
      "metadata": {
        "colab": {
          "base_uri": "https://localhost:8080/"
        },
        "id": "73057dbb-7947-47cb-a232-3b73ed6a98c3",
        "outputId": "6149685b-8de4-4310-deeb-2d06eabcb302"
      },
      "outputs": [
        {
          "output_type": "stream",
          "name": "stdout",
          "text": [
            "Requirement already satisfied: pandas in /usr/local/lib/python3.11/dist-packages (2.2.2)\n",
            "Requirement already satisfied: numpy>=1.23.2 in /usr/local/lib/python3.11/dist-packages (from pandas) (1.26.4)\n",
            "Requirement already satisfied: python-dateutil>=2.8.2 in /usr/local/lib/python3.11/dist-packages (from pandas) (2.8.2)\n",
            "Requirement already satisfied: pytz>=2020.1 in /usr/local/lib/python3.11/dist-packages (from pandas) (2025.1)\n",
            "Requirement already satisfied: tzdata>=2022.7 in /usr/local/lib/python3.11/dist-packages (from pandas) (2025.1)\n",
            "Requirement already satisfied: six>=1.5 in /usr/local/lib/python3.11/dist-packages (from python-dateutil>=2.8.2->pandas) (1.17.0)\n",
            "Requirement already satisfied: matplotlib in /usr/local/lib/python3.11/dist-packages (3.10.0)\n",
            "Requirement already satisfied: contourpy>=1.0.1 in /usr/local/lib/python3.11/dist-packages (from matplotlib) (1.3.1)\n",
            "Requirement already satisfied: cycler>=0.10 in /usr/local/lib/python3.11/dist-packages (from matplotlib) (0.12.1)\n",
            "Requirement already satisfied: fonttools>=4.22.0 in /usr/local/lib/python3.11/dist-packages (from matplotlib) (4.55.8)\n",
            "Requirement already satisfied: kiwisolver>=1.3.1 in /usr/local/lib/python3.11/dist-packages (from matplotlib) (1.4.8)\n",
            "Requirement already satisfied: numpy>=1.23 in /usr/local/lib/python3.11/dist-packages (from matplotlib) (1.26.4)\n",
            "Requirement already satisfied: packaging>=20.0 in /usr/local/lib/python3.11/dist-packages (from matplotlib) (24.2)\n",
            "Requirement already satisfied: pillow>=8 in /usr/local/lib/python3.11/dist-packages (from matplotlib) (11.1.0)\n",
            "Requirement already satisfied: pyparsing>=2.3.1 in /usr/local/lib/python3.11/dist-packages (from matplotlib) (3.2.1)\n",
            "Requirement already satisfied: python-dateutil>=2.7 in /usr/local/lib/python3.11/dist-packages (from matplotlib) (2.8.2)\n",
            "Requirement already satisfied: six>=1.5 in /usr/local/lib/python3.11/dist-packages (from python-dateutil>=2.7->matplotlib) (1.17.0)\n"
          ]
        }
      ],
      "source": [
        "!pip install pandas\n",
        "!pip install matplotlib"
      ],
      "execution_count": 1
    },
    {
      "cell_type": "markdown",
      "metadata": {
        "id": "37b8c69b-ce80-4c51-bef1-fa344e72a840"
      },
      "source": [
        "## Tasks\n"
      ]
    },
    {
      "cell_type": "markdown",
      "metadata": {
        "id": "9944eb65-42f7-4a97-bc2a-87f69456a1a4"
      },
      "source": [
        "#### Step 1: Import the necessary module.\n"
      ]
    },
    {
      "cell_type": "markdown",
      "metadata": {
        "id": "6f636b4c-6417-4cbc-a15d-da5bdab947e7"
      },
      "source": [
        "### 1. Load the Dataset\n"
      ]
    },
    {
      "cell_type": "markdown",
      "metadata": {
        "id": "d0302abc-6d29-4f75-9023-8bfd18365412"
      },
      "source": [
        "<h5>1.1 Import necessary libraries and load the dataset.</h5>\n"
      ]
    },
    {
      "cell_type": "markdown",
      "metadata": {
        "id": "d1acfb07-c289-45fc-a4a3-20bcad583eed"
      },
      "source": [
        "Ensure the dataset is loaded correctly by displaying the first few rows.\n"
      ]
    },
    {
      "cell_type": "code",
      "metadata": {
        "colab": {
          "base_uri": "https://localhost:8080/"
        },
        "id": "417bbb3f-df8d-45ec-8d6e-8f695d9a4a25",
        "outputId": "e2fd8944-397b-482a-a56e-aa37ad23cad5"
      },
      "outputs": [
        {
          "output_type": "stream",
          "name": "stdout",
          "text": [
            "   ResponseId                      MainBranch                 Age  \\\n",
            "0           1  I am a developer by profession  Under 18 years old   \n",
            "1           2  I am a developer by profession     35-44 years old   \n",
            "2           3  I am a developer by profession     45-54 years old   \n",
            "3           4           I am learning to code     18-24 years old   \n",
            "4           5  I am a developer by profession     18-24 years old   \n",
            "\n",
            "            Employment RemoteWork   Check  \\\n",
            "0  Employed, full-time     Remote  Apples   \n",
            "1  Employed, full-time     Remote  Apples   \n",
            "2  Employed, full-time     Remote  Apples   \n",
            "3   Student, full-time        NaN  Apples   \n",
            "4   Student, full-time        NaN  Apples   \n",
            "\n",
            "                                    CodingActivities  \\\n",
            "0                                              Hobby   \n",
            "1  Hobby;Contribute to open-source projects;Other...   \n",
            "2  Hobby;Contribute to open-source projects;Other...   \n",
            "3                                                NaN   \n",
            "4                                                NaN   \n",
            "\n",
            "                                             EdLevel  \\\n",
            "0                          Primary/elementary school   \n",
            "1       Bachelor’s degree (B.A., B.S., B.Eng., etc.)   \n",
            "2    Master’s degree (M.A., M.S., M.Eng., MBA, etc.)   \n",
            "3  Some college/university study without earning ...   \n",
            "4  Secondary school (e.g. American high school, G...   \n",
            "\n",
            "                                           LearnCode  \\\n",
            "0                             Books / Physical media   \n",
            "1  Books / Physical media;Colleague;On the job tr...   \n",
            "2  Books / Physical media;Colleague;On the job tr...   \n",
            "3  Other online resources (e.g., videos, blogs, f...   \n",
            "4  Other online resources (e.g., videos, blogs, f...   \n",
            "\n",
            "                                     LearnCodeOnline  ... JobSatPoints_6  \\\n",
            "0                                                NaN  ...            NaN   \n",
            "1  Technical documentation;Blogs;Books;Written Tu...  ...            0.0   \n",
            "2  Technical documentation;Blogs;Books;Written Tu...  ...            NaN   \n",
            "3  Stack Overflow;How-to videos;Interactive tutorial  ...            NaN   \n",
            "4  Technical documentation;Blogs;Written Tutorial...  ...            NaN   \n",
            "\n",
            "  JobSatPoints_7 JobSatPoints_8 JobSatPoints_9 JobSatPoints_10  \\\n",
            "0            NaN            NaN            NaN             NaN   \n",
            "1            0.0            0.0            0.0             0.0   \n",
            "2            NaN            NaN            NaN             NaN   \n",
            "3            NaN            NaN            NaN             NaN   \n",
            "4            NaN            NaN            NaN             NaN   \n",
            "\n",
            "  JobSatPoints_11           SurveyLength SurveyEase ConvertedCompYearly JobSat  \n",
            "0             NaN                    NaN        NaN                 NaN    NaN  \n",
            "1             0.0                    NaN        NaN                 NaN    NaN  \n",
            "2             NaN  Appropriate in length       Easy                 NaN    NaN  \n",
            "3             NaN               Too long       Easy                 NaN    NaN  \n",
            "4             NaN              Too short       Easy                 NaN    NaN  \n",
            "\n",
            "[5 rows x 114 columns]\n"
          ]
        }
      ],
      "source": [
        "# Import necessary libraries\n",
        "import pandas as pd\n",
        "\n",
        "# Load the Stack Overflow survey data\n",
        "dataset_url = \"https://cf-courses-data.s3.us.cloud-object-storage.appdomain.cloud/n01PQ9pSmiRX6520flujwQ/survey-data.csv\"\n",
        "df = pd.read_csv(dataset_url)\n",
        "\n",
        "# Display the first few rows\n",
        "print(df.head())\n"
      ],
      "execution_count": 2
    },
    {
      "cell_type": "markdown",
      "metadata": {
        "id": "5c7df306-0dd0-4566-a376-bad64fbf6455"
      },
      "source": [
        "#### 2. Explore the Dataset\n"
      ]
    },
    {
      "cell_type": "markdown",
      "metadata": {
        "id": "0a7b356e-a83e-478a-bd04-da95500e0304"
      },
      "source": [
        "<h5>2.1 Summarize the dataset by displaying the column data types, counts, and missing values.</h5>\n"
      ]
    },
    {
      "cell_type": "code",
      "source": [
        "# prompt: 2.1 Summarize the dataset by displaying the column data types, counts, and missing values.\n",
        "\n",
        "# Display column data types, counts, and missing values\n",
        "print(df.info())\n"
      ],
      "metadata": {
        "colab": {
          "base_uri": "https://localhost:8080/"
        },
        "id": "hVK4nG0EzdYy",
        "outputId": "d3f2a415-d8bd-456a-8006-6068c98e175d"
      },
      "execution_count": 3,
      "outputs": [
        {
          "output_type": "stream",
          "name": "stdout",
          "text": [
            "<class 'pandas.core.frame.DataFrame'>\n",
            "RangeIndex: 65437 entries, 0 to 65436\n",
            "Columns: 114 entries, ResponseId to JobSat\n",
            "dtypes: float64(13), int64(1), object(100)\n",
            "memory usage: 56.9+ MB\n",
            "None\n"
          ]
        }
      ]
    },
    {
      "cell_type": "markdown",
      "metadata": {
        "id": "685cdd1b-44d7-40cf-ba9f-ee347f747832"
      },
      "source": [
        "<h5>2.2 Generate basic statistics for numerical columns.</h5>\n"
      ]
    },
    {
      "cell_type": "code",
      "source": [
        "# prompt: 2.2 Generate basic statistics for numerical columns.\n",
        "\n",
        "print(df.describe())\n"
      ],
      "metadata": {
        "colab": {
          "base_uri": "https://localhost:8080/"
        },
        "id": "yNUwGJykzlSl",
        "outputId": "a0669570-e62c-4fb7-a30b-1b7a04040ac0"
      },
      "execution_count": 4,
      "outputs": [
        {
          "output_type": "stream",
          "name": "stdout",
          "text": [
            "         ResponseId      CompTotal       WorkExp  JobSatPoints_1  \\\n",
            "count  65437.000000   3.374000e+04  29658.000000    29324.000000   \n",
            "mean   32719.000000  2.963841e+145     11.466957       18.581094   \n",
            "std    18890.179119  5.444117e+147      9.168709       25.966221   \n",
            "min        1.000000   0.000000e+00      0.000000        0.000000   \n",
            "25%    16360.000000   6.000000e+04      4.000000        0.000000   \n",
            "50%    32719.000000   1.100000e+05      9.000000       10.000000   \n",
            "75%    49078.000000   2.500000e+05     16.000000       22.000000   \n",
            "max    65437.000000  1.000000e+150     50.000000      100.000000   \n",
            "\n",
            "       JobSatPoints_4  JobSatPoints_5  JobSatPoints_6  JobSatPoints_7  \\\n",
            "count    29393.000000    29411.000000    29450.000000     29448.00000   \n",
            "mean         7.522140       10.060857       24.343232        22.96522   \n",
            "std         18.422661       21.833836       27.089360        27.01774   \n",
            "min          0.000000        0.000000        0.000000         0.00000   \n",
            "25%          0.000000        0.000000        0.000000         0.00000   \n",
            "50%          0.000000        0.000000       20.000000        15.00000   \n",
            "75%          5.000000       10.000000       30.000000        30.00000   \n",
            "max        100.000000      100.000000      100.000000       100.00000   \n",
            "\n",
            "       JobSatPoints_8  JobSatPoints_9  JobSatPoints_10  JobSatPoints_11  \\\n",
            "count    29456.000000    29456.000000     29450.000000     29445.000000   \n",
            "mean        20.278165       16.169432        10.955713         9.953948   \n",
            "std         26.108110       24.845032        22.906263        21.775652   \n",
            "min          0.000000        0.000000         0.000000         0.000000   \n",
            "25%          0.000000        0.000000         0.000000         0.000000   \n",
            "50%         10.000000        5.000000         0.000000         0.000000   \n",
            "75%         25.000000       20.000000        10.000000        10.000000   \n",
            "max        100.000000      100.000000       100.000000       100.000000   \n",
            "\n",
            "       ConvertedCompYearly        JobSat  \n",
            "count         2.343500e+04  29126.000000  \n",
            "mean          8.615529e+04      6.935041  \n",
            "std           1.867570e+05      2.088259  \n",
            "min           1.000000e+00      0.000000  \n",
            "25%           3.271200e+04      6.000000  \n",
            "50%           6.500000e+04      7.000000  \n",
            "75%           1.079715e+05      8.000000  \n",
            "max           1.625660e+07     10.000000  \n"
          ]
        }
      ]
    },
    {
      "cell_type": "markdown",
      "metadata": {
        "id": "8ca71359-8f5b-4f33-afe9-af011c2eae37"
      },
      "source": [
        "### 3. Identifying and Removing Inconsistencies\n"
      ]
    },
    {
      "cell_type": "markdown",
      "metadata": {
        "id": "224d423d-4338-423a-ae66-40981cc7809d"
      },
      "source": [
        "<h5>3.1 Identify inconsistent or irrelevant entries in specific columns (e.g., Country).</h5>\n"
      ]
    },
    {
      "cell_type": "code",
      "source": [
        "# prompt: 3.1 Identify inconsistent or irrelevant entries in specific columns (e.g., Country).\n",
        "\n",
        "# Check unique values in the 'Country' column to identify inconsistencies\n",
        "print(df['Country'].unique())\n",
        "\n",
        "# You can further analyze the 'Country' column for inconsistencies.\n",
        "# For example, you can check for variations in country names (e.g., USA vs. United States)\n",
        "# or for entries that don't represent valid countries.\n",
        "\n",
        "# To remove inconsistencies, you might use techniques like:\n",
        "# 1. Replacing inconsistent entries with the correct value:\n",
        "# df['Country'] = df['Country'].replace({'USA': 'United States'})\n",
        "# 2. Removing rows with inconsistent entries:\n",
        "# df = df[~df['Country'].isin(['Invalid Country'])]  # Remove rows where Country is 'Invalid Country'\n",
        "\n",
        "# After cleaning up the inconsistencies, you might want to verify the changes:\n",
        "# print(df['Country'].unique())\n"
      ],
      "metadata": {
        "colab": {
          "base_uri": "https://localhost:8080/"
        },
        "id": "BpW6DyIPzvh7",
        "outputId": "925cf925-ebb8-4a2a-a06e-1a93f78adc2c"
      },
      "execution_count": 5,
      "outputs": [
        {
          "output_type": "stream",
          "name": "stdout",
          "text": [
            "['United States of America'\n",
            " 'United Kingdom of Great Britain and Northern Ireland' 'Canada' 'Norway'\n",
            " 'Uzbekistan' 'Serbia' 'Poland' 'Philippines' 'Bulgaria' 'Switzerland'\n",
            " 'India' 'Germany' 'Ireland' 'Italy' 'Ukraine' 'Australia' 'Brazil'\n",
            " 'Japan' 'Austria' 'Iran, Islamic Republic of...' 'France' 'Saudi Arabia'\n",
            " 'Romania' 'Turkey' 'Nepal' 'Algeria' 'Sweden' 'Netherlands' 'Croatia'\n",
            " 'Pakistan' 'Czech Republic' 'Republic of North Macedonia' 'Finland'\n",
            " 'Slovakia' 'Russian Federation' 'Greece' 'Israel' 'Belgium' 'Mexico'\n",
            " 'United Republic of Tanzania' 'Hungary' 'Argentina' 'Portugal'\n",
            " 'Sri Lanka' 'Latvia' 'China' 'Singapore' 'Lebanon' 'Spain' 'South Africa'\n",
            " 'Lithuania' 'Viet Nam' 'Dominican Republic' 'Indonesia' 'Kosovo'\n",
            " 'Morocco' 'Taiwan' 'Georgia' 'San Marino' 'Tunisia' 'Bangladesh'\n",
            " 'Nigeria' 'Liechtenstein' 'Denmark' 'Ecuador' 'Malaysia' 'Albania'\n",
            " 'Azerbaijan' 'Chile' 'Ghana' 'Peru' 'Bolivia' 'Egypt' 'Luxembourg'\n",
            " 'Montenegro' 'Cyprus' 'Paraguay' 'Kazakhstan' 'Slovenia' 'Jordan'\n",
            " 'Venezuela, Bolivarian Republic of...' 'Costa Rica' 'Jamaica' 'Thailand'\n",
            " 'Nicaragua' 'Myanmar' 'Republic of Korea' 'Rwanda'\n",
            " 'Bosnia and Herzegovina' 'Benin' 'El Salvador' 'Zimbabwe' 'Afghanistan'\n",
            " 'Estonia' 'Malta' 'Uruguay' 'Belarus' 'Colombia' 'Republic of Moldova'\n",
            " 'Isle of Man' 'Nomadic' 'New Zealand' 'Palestine' 'Armenia'\n",
            " 'United Arab Emirates' 'Maldives' 'Ethiopia' 'Fiji' 'Guatemala' 'Uganda'\n",
            " 'Turkmenistan' 'Mauritius' 'Kenya' 'Cuba' 'Gabon' 'Bahamas' 'South Korea'\n",
            " 'Iceland' 'Honduras' 'Hong Kong (S.A.R.)'\n",
            " \"Lao People's Democratic Republic\" 'Mongolia' 'Cambodia' 'Madagascar'\n",
            " 'Angola' 'Democratic Republic of the Congo' 'Syrian Arab Republic' 'Iraq'\n",
            " 'Namibia' 'Senegal' 'Kyrgyzstan' 'Zambia' 'Swaziland' \"Côte d'Ivoire\"\n",
            " 'Kuwait' 'Tajikistan' 'Burundi' 'Trinidad and Tobago' 'Mauritania'\n",
            " 'Sierra Leone' 'Panama' 'Somalia' 'North Korea' 'Dominica' 'Guyana'\n",
            " 'Togo' 'Oman' 'Barbados' 'Andorra'\n",
            " \"Democratic People's Republic of Korea\" 'Qatar' 'Sudan' 'Cameroon'\n",
            " 'Papua New Guinea' 'Bahrain' 'Yemen' 'Malawi' 'Burkina Faso'\n",
            " 'Congo, Republic of the...' 'Botswana' 'Guinea-Bissau' 'Mozambique'\n",
            " 'Central African Republic' 'Equatorial Guinea' 'Suriname' 'Belize'\n",
            " 'Libyan Arab Jamahiriya' 'Cape Verde' 'Brunei Darussalam' 'Bhutan'\n",
            " 'Guinea' 'Niger' 'Antigua and Barbuda' 'Mali' 'Samoa' 'Lesotho'\n",
            " 'Saint Kitts and Nevis' 'Monaco' 'Micronesia, Federated States of...'\n",
            " 'Haiti' nan 'Nauru' 'Liberia' 'Chad' 'Djibouti' 'Solomon Islands']\n"
          ]
        }
      ]
    },
    {
      "cell_type": "markdown",
      "metadata": {
        "id": "a32ff9e2-d19e-4175-9997-907c09a94df0"
      },
      "source": [
        "<h5>3.2 Standardize entries in columns like Country or EdLevel by mapping inconsistent values to a consistent format.</h5>\n"
      ]
    },
    {
      "cell_type": "code",
      "source": [
        "# prompt: 3.2 Standardize entries in columns like Country or EdLevel by mapping inconsistent values to a consistent format.\n",
        "\n",
        "# Create a mapping dictionary for inconsistent country names\n",
        "country_mapping = {\n",
        "    'United States': 'United States',\n",
        "    'USA': 'United States',\n",
        "    'US': 'United States',\n",
        "    'United Kingdom': 'United Kingdom',\n",
        "    'UK': 'United Kingdom',\n",
        "    'Great Britain': 'United Kingdom',\n",
        "    # Add more mappings as needed\n",
        "}\n",
        "\n",
        "# Use the mapping dictionary to standardize the 'Country' column\n",
        "df['Country'] = df['Country'].map(country_mapping).fillna(df['Country'])\n",
        "\n",
        "# Verify the changes\n",
        "print(df['Country'].unique())\n",
        "\n",
        "# Similarly, create a mapping for 'EdLevel' and apply it:\n",
        "edlevel_mapping = {\n",
        "    \"Master’s degree\": \"Master's degree\",\n",
        "    # Add more mappings as needed\n",
        "}\n",
        "\n",
        "df['EdLevel'] = df['EdLevel'].map(edlevel_mapping).fillna(df['EdLevel'])\n",
        "print(df['EdLevel'].unique())\n"
      ],
      "metadata": {
        "colab": {
          "base_uri": "https://localhost:8080/"
        },
        "id": "9PtSepR0z5L7",
        "outputId": "2354828f-b867-4d6e-9f3a-b35d5fcd6434"
      },
      "execution_count": 6,
      "outputs": [
        {
          "output_type": "stream",
          "name": "stdout",
          "text": [
            "['United States of America'\n",
            " 'United Kingdom of Great Britain and Northern Ireland' 'Canada' 'Norway'\n",
            " 'Uzbekistan' 'Serbia' 'Poland' 'Philippines' 'Bulgaria' 'Switzerland'\n",
            " 'India' 'Germany' 'Ireland' 'Italy' 'Ukraine' 'Australia' 'Brazil'\n",
            " 'Japan' 'Austria' 'Iran, Islamic Republic of...' 'France' 'Saudi Arabia'\n",
            " 'Romania' 'Turkey' 'Nepal' 'Algeria' 'Sweden' 'Netherlands' 'Croatia'\n",
            " 'Pakistan' 'Czech Republic' 'Republic of North Macedonia' 'Finland'\n",
            " 'Slovakia' 'Russian Federation' 'Greece' 'Israel' 'Belgium' 'Mexico'\n",
            " 'United Republic of Tanzania' 'Hungary' 'Argentina' 'Portugal'\n",
            " 'Sri Lanka' 'Latvia' 'China' 'Singapore' 'Lebanon' 'Spain' 'South Africa'\n",
            " 'Lithuania' 'Viet Nam' 'Dominican Republic' 'Indonesia' 'Kosovo'\n",
            " 'Morocco' 'Taiwan' 'Georgia' 'San Marino' 'Tunisia' 'Bangladesh'\n",
            " 'Nigeria' 'Liechtenstein' 'Denmark' 'Ecuador' 'Malaysia' 'Albania'\n",
            " 'Azerbaijan' 'Chile' 'Ghana' 'Peru' 'Bolivia' 'Egypt' 'Luxembourg'\n",
            " 'Montenegro' 'Cyprus' 'Paraguay' 'Kazakhstan' 'Slovenia' 'Jordan'\n",
            " 'Venezuela, Bolivarian Republic of...' 'Costa Rica' 'Jamaica' 'Thailand'\n",
            " 'Nicaragua' 'Myanmar' 'Republic of Korea' 'Rwanda'\n",
            " 'Bosnia and Herzegovina' 'Benin' 'El Salvador' 'Zimbabwe' 'Afghanistan'\n",
            " 'Estonia' 'Malta' 'Uruguay' 'Belarus' 'Colombia' 'Republic of Moldova'\n",
            " 'Isle of Man' 'Nomadic' 'New Zealand' 'Palestine' 'Armenia'\n",
            " 'United Arab Emirates' 'Maldives' 'Ethiopia' 'Fiji' 'Guatemala' 'Uganda'\n",
            " 'Turkmenistan' 'Mauritius' 'Kenya' 'Cuba' 'Gabon' 'Bahamas' 'South Korea'\n",
            " 'Iceland' 'Honduras' 'Hong Kong (S.A.R.)'\n",
            " \"Lao People's Democratic Republic\" 'Mongolia' 'Cambodia' 'Madagascar'\n",
            " 'Angola' 'Democratic Republic of the Congo' 'Syrian Arab Republic' 'Iraq'\n",
            " 'Namibia' 'Senegal' 'Kyrgyzstan' 'Zambia' 'Swaziland' \"Côte d'Ivoire\"\n",
            " 'Kuwait' 'Tajikistan' 'Burundi' 'Trinidad and Tobago' 'Mauritania'\n",
            " 'Sierra Leone' 'Panama' 'Somalia' 'North Korea' 'Dominica' 'Guyana'\n",
            " 'Togo' 'Oman' 'Barbados' 'Andorra'\n",
            " \"Democratic People's Republic of Korea\" 'Qatar' 'Sudan' 'Cameroon'\n",
            " 'Papua New Guinea' 'Bahrain' 'Yemen' 'Malawi' 'Burkina Faso'\n",
            " 'Congo, Republic of the...' 'Botswana' 'Guinea-Bissau' 'Mozambique'\n",
            " 'Central African Republic' 'Equatorial Guinea' 'Suriname' 'Belize'\n",
            " 'Libyan Arab Jamahiriya' 'Cape Verde' 'Brunei Darussalam' 'Bhutan'\n",
            " 'Guinea' 'Niger' 'Antigua and Barbuda' 'Mali' 'Samoa' 'Lesotho'\n",
            " 'Saint Kitts and Nevis' 'Monaco' 'Micronesia, Federated States of...'\n",
            " 'Haiti' nan 'Nauru' 'Liberia' 'Chad' 'Djibouti' 'Solomon Islands']\n",
            "['Primary/elementary school'\n",
            " 'Bachelor’s degree (B.A., B.S., B.Eng., etc.)'\n",
            " 'Master’s degree (M.A., M.S., M.Eng., MBA, etc.)'\n",
            " 'Some college/university study without earning a degree'\n",
            " 'Secondary school (e.g. American high school, German Realschule or Gymnasium, etc.)'\n",
            " 'Professional degree (JD, MD, Ph.D, Ed.D, etc.)'\n",
            " 'Associate degree (A.A., A.S., etc.)' 'Something else' nan]\n"
          ]
        }
      ]
    },
    {
      "cell_type": "markdown",
      "metadata": {
        "id": "f3f7396f-8152-454d-b0d6-ee70eaba540d"
      },
      "source": [
        "### 4. Encoding Categorical Variables\n"
      ]
    },
    {
      "cell_type": "markdown",
      "metadata": {
        "id": "0e675dd9-b427-4c7a-92c2-b711a8ebb6a0"
      },
      "source": [
        "<h5>4.1 Encode the Employment column using one-hot encoding.</h5>\n"
      ]
    },
    {
      "cell_type": "code",
      "source": [
        "# prompt: 4.1 Encode the Employment column using one-hot encoding.\n",
        "\n",
        "# Create dummy variables for the 'Employment' column\n",
        "employment_dummies = pd.get_dummies(df['Employment'], prefix='Employment')\n",
        "\n",
        "# Concatenate the dummy variables with the original DataFrame\n",
        "df = pd.concat([df, employment_dummies], axis=1)\n",
        "\n",
        "# Display the first few rows of the updated DataFrame\n",
        "print(df.head())\n"
      ],
      "metadata": {
        "colab": {
          "base_uri": "https://localhost:8080/"
        },
        "id": "_pKqBWF30B2X",
        "outputId": "19c0e073-151a-4d92-ea22-e47549077753"
      },
      "execution_count": 7,
      "outputs": [
        {
          "output_type": "stream",
          "name": "stdout",
          "text": [
            "   ResponseId                      MainBranch                 Age  \\\n",
            "0           1  I am a developer by profession  Under 18 years old   \n",
            "1           2  I am a developer by profession     35-44 years old   \n",
            "2           3  I am a developer by profession     45-54 years old   \n",
            "3           4           I am learning to code     18-24 years old   \n",
            "4           5  I am a developer by profession     18-24 years old   \n",
            "\n",
            "            Employment RemoteWork   Check  \\\n",
            "0  Employed, full-time     Remote  Apples   \n",
            "1  Employed, full-time     Remote  Apples   \n",
            "2  Employed, full-time     Remote  Apples   \n",
            "3   Student, full-time        NaN  Apples   \n",
            "4   Student, full-time        NaN  Apples   \n",
            "\n",
            "                                    CodingActivities  \\\n",
            "0                                              Hobby   \n",
            "1  Hobby;Contribute to open-source projects;Other...   \n",
            "2  Hobby;Contribute to open-source projects;Other...   \n",
            "3                                                NaN   \n",
            "4                                                NaN   \n",
            "\n",
            "                                             EdLevel  \\\n",
            "0                          Primary/elementary school   \n",
            "1       Bachelor’s degree (B.A., B.S., B.Eng., etc.)   \n",
            "2    Master’s degree (M.A., M.S., M.Eng., MBA, etc.)   \n",
            "3  Some college/university study without earning ...   \n",
            "4  Secondary school (e.g. American high school, G...   \n",
            "\n",
            "                                           LearnCode  \\\n",
            "0                             Books / Physical media   \n",
            "1  Books / Physical media;Colleague;On the job tr...   \n",
            "2  Books / Physical media;Colleague;On the job tr...   \n",
            "3  Other online resources (e.g., videos, blogs, f...   \n",
            "4  Other online resources (e.g., videos, blogs, f...   \n",
            "\n",
            "                                     LearnCodeOnline  ...  \\\n",
            "0                                                NaN  ...   \n",
            "1  Technical documentation;Blogs;Books;Written Tu...  ...   \n",
            "2  Technical documentation;Blogs;Books;Written Tu...  ...   \n",
            "3  Stack Overflow;How-to videos;Interactive tutorial  ...   \n",
            "4  Technical documentation;Blogs;Written Tutorial...  ...   \n",
            "\n",
            "  Employment_Student, full-time;Not employed, but looking for work;Not employed, and not looking for work;Student, part-time  \\\n",
            "0                                              False                                                                           \n",
            "1                                              False                                                                           \n",
            "2                                              False                                                                           \n",
            "3                                              False                                                                           \n",
            "4                                              False                                                                           \n",
            "\n",
            "  Employment_Student, full-time;Not employed, but looking for work;Retired  \\\n",
            "0                                              False                         \n",
            "1                                              False                         \n",
            "2                                              False                         \n",
            "3                                              False                         \n",
            "4                                              False                         \n",
            "\n",
            "  Employment_Student, full-time;Not employed, but looking for work;Student, part-time  \\\n",
            "0                                              False                                    \n",
            "1                                              False                                    \n",
            "2                                              False                                    \n",
            "3                                              False                                    \n",
            "4                                              False                                    \n",
            "\n",
            "  Employment_Student, full-time;Retired  \\\n",
            "0                                 False   \n",
            "1                                 False   \n",
            "2                                 False   \n",
            "3                                 False   \n",
            "4                                 False   \n",
            "\n",
            "  Employment_Student, full-time;Student, part-time  \\\n",
            "0                                            False   \n",
            "1                                            False   \n",
            "2                                            False   \n",
            "3                                            False   \n",
            "4                                            False   \n",
            "\n",
            "  Employment_Student, full-time;Student, part-time;Employed, part-time  \\\n",
            "0                                              False                     \n",
            "1                                              False                     \n",
            "2                                              False                     \n",
            "3                                              False                     \n",
            "4                                              False                     \n",
            "\n",
            "  Employment_Student, full-time;Student, part-time;Retired  \\\n",
            "0                                              False         \n",
            "1                                              False         \n",
            "2                                              False         \n",
            "3                                              False         \n",
            "4                                              False         \n",
            "\n",
            "  Employment_Student, part-time  \\\n",
            "0                         False   \n",
            "1                         False   \n",
            "2                         False   \n",
            "3                         False   \n",
            "4                         False   \n",
            "\n",
            "  Employment_Student, part-time;Employed, part-time  \\\n",
            "0                                             False   \n",
            "1                                             False   \n",
            "2                                             False   \n",
            "3                                             False   \n",
            "4                                             False   \n",
            "\n",
            "  Employment_Student, part-time;Retired  \n",
            "0                                 False  \n",
            "1                                 False  \n",
            "2                                 False  \n",
            "3                                 False  \n",
            "4                                 False  \n",
            "\n",
            "[5 rows x 224 columns]\n"
          ]
        }
      ]
    },
    {
      "cell_type": "markdown",
      "metadata": {
        "id": "fe0d75d2-209f-4c56-b14e-b2f8037e76d7"
      },
      "source": [
        "### 5. Handling Missing Values\n"
      ]
    },
    {
      "cell_type": "markdown",
      "metadata": {
        "id": "167edac3-f763-4689-89f9-c2b499fe6ceb"
      },
      "source": [
        "<h5>5.1 Identify columns with the highest number of missing values.</h5>\n"
      ]
    },
    {
      "cell_type": "code",
      "metadata": {
        "id": "3b9b722d-ab02-4316-a64c-96fd10d57f09"
      },
      "outputs": [],
      "source": [
        "## Write your code here"
      ],
      "execution_count": null
    },
    {
      "cell_type": "code",
      "source": [
        "# prompt: 5.1 Identify columns with the highest number of missing values\n",
        "\n",
        "# Calculate the number of missing values in each column\n",
        "missing_values = df.isnull().sum()\n",
        "\n",
        "# Sort the columns by the number of missing values in descending order\n",
        "missing_values_sorted = missing_values.sort_values(ascending=False)\n",
        "\n",
        "# Print the columns with the highest number of missing values\n",
        "missing_values_sorted\n"
      ],
      "metadata": {
        "colab": {
          "base_uri": "https://localhost:8080/",
          "height": 458
        },
        "id": "9APxkm4f0LBm",
        "outputId": "e8d84dcb-4eae-464b-c523-dd4eac98c27a"
      },
      "execution_count": 8,
      "outputs": [
        {
          "output_type": "execute_result",
          "data": {
            "text/plain": [
              "AINextMuch less integrated                                                                                                                               64289\n",
              "AINextLess integrated                                                                                                                                    63082\n",
              "AINextNo change                                                                                                                                          52939\n",
              "AINextMuch more integrated                                                                                                                               51999\n",
              "EmbeddedAdmired                                                                                                                                          48704\n",
              "                                                                                                                                                         ...  \n",
              "Employment_Employed, full-time;Student, full-time;Not employed, but looking for work                                                                         0\n",
              "Employment_Employed, full-time;Student, full-time;Independent contractor, freelancer, or self-employed;Student, part-time;Retired                            0\n",
              "Employment_Employed, full-time;Student, full-time;Independent contractor, freelancer, or self-employed;Student, part-time;Employed, part-time;Retired        0\n",
              "Employment_Employed, full-time;Student, full-time;Independent contractor, freelancer, or self-employed;Student, part-time;Employed, part-time                0\n",
              "Employment_Student, part-time;Retired                                                                                                                        0\n",
              "Length: 224, dtype: int64"
            ],
            "text/html": [
              "<div>\n",
              "<style scoped>\n",
              "    .dataframe tbody tr th:only-of-type {\n",
              "        vertical-align: middle;\n",
              "    }\n",
              "\n",
              "    .dataframe tbody tr th {\n",
              "        vertical-align: top;\n",
              "    }\n",
              "\n",
              "    .dataframe thead th {\n",
              "        text-align: right;\n",
              "    }\n",
              "</style>\n",
              "<table border=\"1\" class=\"dataframe\">\n",
              "  <thead>\n",
              "    <tr style=\"text-align: right;\">\n",
              "      <th></th>\n",
              "      <th>0</th>\n",
              "    </tr>\n",
              "  </thead>\n",
              "  <tbody>\n",
              "    <tr>\n",
              "      <th>AINextMuch less integrated</th>\n",
              "      <td>64289</td>\n",
              "    </tr>\n",
              "    <tr>\n",
              "      <th>AINextLess integrated</th>\n",
              "      <td>63082</td>\n",
              "    </tr>\n",
              "    <tr>\n",
              "      <th>AINextNo change</th>\n",
              "      <td>52939</td>\n",
              "    </tr>\n",
              "    <tr>\n",
              "      <th>AINextMuch more integrated</th>\n",
              "      <td>51999</td>\n",
              "    </tr>\n",
              "    <tr>\n",
              "      <th>EmbeddedAdmired</th>\n",
              "      <td>48704</td>\n",
              "    </tr>\n",
              "    <tr>\n",
              "      <th>...</th>\n",
              "      <td>...</td>\n",
              "    </tr>\n",
              "    <tr>\n",
              "      <th>Employment_Employed, full-time;Student, full-time;Not employed, but looking for work</th>\n",
              "      <td>0</td>\n",
              "    </tr>\n",
              "    <tr>\n",
              "      <th>Employment_Employed, full-time;Student, full-time;Independent contractor, freelancer, or self-employed;Student, part-time;Retired</th>\n",
              "      <td>0</td>\n",
              "    </tr>\n",
              "    <tr>\n",
              "      <th>Employment_Employed, full-time;Student, full-time;Independent contractor, freelancer, or self-employed;Student, part-time;Employed, part-time;Retired</th>\n",
              "      <td>0</td>\n",
              "    </tr>\n",
              "    <tr>\n",
              "      <th>Employment_Employed, full-time;Student, full-time;Independent contractor, freelancer, or self-employed;Student, part-time;Employed, part-time</th>\n",
              "      <td>0</td>\n",
              "    </tr>\n",
              "    <tr>\n",
              "      <th>Employment_Student, part-time;Retired</th>\n",
              "      <td>0</td>\n",
              "    </tr>\n",
              "  </tbody>\n",
              "</table>\n",
              "<p>224 rows × 1 columns</p>\n",
              "</div><br><label><b>dtype:</b> int64</label>"
            ]
          },
          "metadata": {},
          "execution_count": 8
        }
      ]
    },
    {
      "cell_type": "markdown",
      "metadata": {
        "id": "3494af17-d786-412c-8fa5-93007c842385"
      },
      "source": [
        "<h5>5.2 Impute missing values in numerical columns (e.g., `ConvertedCompYearly`) with the mean or median.</h5>\n"
      ]
    },
    {
      "cell_type": "code",
      "source": [
        "# prompt: Impute missing values in numerical columns (e.g., `ConvertedCompYearly`) with the mean or median.\n",
        "\n",
        "# Calculate the mean of 'ConvertedCompYearly'\n",
        "mean_converted_comp = df['ConvertedCompYearly'].mean()\n",
        "\n",
        "# Fill missing values in 'ConvertedCompYearly' with the mean\n",
        "df['ConvertedCompYearly'].fillna(mean_converted_comp, inplace=True)\n",
        "\n",
        "# Alternatively, use the median:\n",
        "# median_converted_comp = df['ConvertedCompYearly'].median()\n",
        "# df['ConvertedCompYearly'].fillna(median_converted_comp, inplace=True)\n"
      ],
      "metadata": {
        "colab": {
          "base_uri": "https://localhost:8080/"
        },
        "id": "MMpHa_HN0V1P",
        "outputId": "6e11fd7f-8a7f-401a-c6e8-90dc161d892d"
      },
      "execution_count": 9,
      "outputs": [
        {
          "output_type": "stream",
          "name": "stderr",
          "text": [
            "<ipython-input-9-fcfdad99335e>:7: FutureWarning: A value is trying to be set on a copy of a DataFrame or Series through chained assignment using an inplace method.\n",
            "The behavior will change in pandas 3.0. This inplace method will never work because the intermediate object on which we are setting values always behaves as a copy.\n",
            "\n",
            "For example, when doing 'df[col].method(value, inplace=True)', try using 'df.method({col: value}, inplace=True)' or df[col] = df[col].method(value) instead, to perform the operation inplace on the original object.\n",
            "\n",
            "\n",
            "  df['ConvertedCompYearly'].fillna(mean_converted_comp, inplace=True)\n"
          ]
        }
      ]
    },
    {
      "cell_type": "markdown",
      "metadata": {
        "id": "b7aa6dd5-e442-4042-8e0b-7b047c5271c7"
      },
      "source": [
        "<h5>5.3 Impute missing values in categorical columns (e.g., `RemoteWork`) with the most frequent value.</h5>\n"
      ]
    },
    {
      "cell_type": "code",
      "source": [
        "# prompt: 5.3 Impute missing values in categorical columns (e.g., `RemoteWork`) with the most frequent value.\n",
        "\n",
        "# Find the most frequent value in the 'RemoteWork' column\n",
        "most_frequent_remote_work = df['RemoteWork'].mode()[0]\n",
        "\n",
        "# Fill missing values in 'RemoteWork' with the most frequent value\n",
        "df['RemoteWork'].fillna(most_frequent_remote_work, inplace=True)\n"
      ],
      "metadata": {
        "colab": {
          "base_uri": "https://localhost:8080/"
        },
        "id": "-13nmMMw0fVl",
        "outputId": "b9f197e7-c8c2-41ea-c952-a7363eceeded"
      },
      "execution_count": 10,
      "outputs": [
        {
          "output_type": "stream",
          "name": "stderr",
          "text": [
            "<ipython-input-10-13eeb31b9b97>:7: FutureWarning: A value is trying to be set on a copy of a DataFrame or Series through chained assignment using an inplace method.\n",
            "The behavior will change in pandas 3.0. This inplace method will never work because the intermediate object on which we are setting values always behaves as a copy.\n",
            "\n",
            "For example, when doing 'df[col].method(value, inplace=True)', try using 'df.method({col: value}, inplace=True)' or df[col] = df[col].method(value) instead, to perform the operation inplace on the original object.\n",
            "\n",
            "\n",
            "  df['RemoteWork'].fillna(most_frequent_remote_work, inplace=True)\n"
          ]
        }
      ]
    },
    {
      "cell_type": "markdown",
      "metadata": {
        "id": "df590266-80ce-41e6-aec8-0e535b770629"
      },
      "source": [
        "### 6. Feature Scaling and Transformation\n"
      ]
    },
    {
      "cell_type": "markdown",
      "metadata": {
        "id": "11ac8b9d-3b1a-472f-b49a-d8d0299204dc"
      },
      "source": [
        "<h5>6.1 Apply Min-Max Scaling to normalize the `ConvertedCompYearly` column.</h5>\n"
      ]
    },
    {
      "cell_type": "code",
      "source": [
        "# prompt: 6.1 Apply Min-Max Scaling to normalize the `ConvertedCompYearly` column.\n",
        "\n",
        "from sklearn.preprocessing import MinMaxScaler\n",
        "\n",
        "# Create a MinMaxScaler object\n",
        "scaler = MinMaxScaler()\n",
        "\n",
        "# Reshape the 'ConvertedCompYearly' column before scaling\n",
        "converted_comp_reshaped = df['ConvertedCompYearly'].values.reshape(-1, 1)\n",
        "\n",
        "# Fit and transform the 'ConvertedCompYearly' column\n",
        "df['ConvertedCompYearly'] = scaler.fit_transform(converted_comp_reshaped)\n"
      ],
      "metadata": {
        "id": "W7gT6SU_0wUv"
      },
      "execution_count": 11,
      "outputs": []
    },
    {
      "cell_type": "markdown",
      "metadata": {
        "id": "e556a89e-8ab3-4eaa-9d75-ced79f89ed2c"
      },
      "source": [
        "<h5>6.2 Log-transform the ConvertedCompYearly column to reduce skewness.</h5>\n"
      ]
    },
    {
      "cell_type": "code",
      "source": [
        "# prompt: 6.2 Log-transform the ConvertedCompYearly column to reduce skewness.\n",
        "\n",
        "import numpy as np\n",
        "\n",
        "# Log transform the 'ConvertedCompYearly' column\n",
        "df['ConvertedCompYearly'] = np.log1p(df['ConvertedCompYearly'])\n"
      ],
      "metadata": {
        "id": "IeF-HdpV05u9"
      },
      "execution_count": 12,
      "outputs": []
    },
    {
      "cell_type": "markdown",
      "metadata": {
        "id": "5d04a76c-224c-4182-9f4c-ff0ed5bac396"
      },
      "source": [
        "### 7. Feature Engineering\n"
      ]
    },
    {
      "cell_type": "markdown",
      "metadata": {
        "id": "a7cd7cc2-4615-4c03-a2a9-ed6a30ef2556"
      },
      "source": [
        "<h5>7.1 Create a new column `ExperienceLevel` based on the `YearsCodePro` column:</h5>\n"
      ]
    },
    {
      "cell_type": "code",
      "source": [
        "# prompt: 7.1 Create a new column `ExperienceLevel` based on the `YearsCodePro` column:\n",
        "\n",
        "# Create the 'ExperienceLevel' column based on 'YearsCodePro'\n",
        "def categorize_experience(years):\n",
        "    # Convert 'years' to a numeric type, handling errors\n",
        "    try:\n",
        "        years = float(years)  # or int(years) if you expect only integer values\n",
        "    except (ValueError, TypeError):\n",
        "        return 'Unknown'  # Handle non-numeric values\n",
        "\n",
        "    if years < 2:\n",
        "        return 'Junior'\n",
        "    elif years < 5:\n",
        "        return 'Mid-Level'\n",
        "    elif years < 10:\n",
        "        return 'Senior'\n",
        "    else:\n",
        "        return 'Expert'\n",
        "\n",
        "df['ExperienceLevel'] = df['YearsCodePro'].apply(categorize_experience)\n"
      ],
      "metadata": {
        "id": "kyqoc-Ly1Fw0"
      },
      "execution_count": 14,
      "outputs": []
    },
    {
      "cell_type": "markdown",
      "metadata": {
        "id": "9cb9db65-501b-4f0a-b514-5b77fe7172b1"
      },
      "source": [
        "### Summary\n"
      ]
    },
    {
      "cell_type": "markdown",
      "metadata": {
        "id": "10613a56-101f-4d4e-8d03-08bb7c5f54bc"
      },
      "source": [
        "In this lab, you:\n",
        "\n",
        "- Explored the dataset to identify inconsistencies and missing values.\n",
        "\n",
        "- Encoded categorical variables for analysis.\n",
        "\n",
        "- Handled missing values using imputation techniques.\n",
        "\n",
        "- Normalized and transformed numerical data to prepare it for analysis.\n",
        "\n",
        "- Engineered a new feature to enhance data interpretation.\n"
      ]
    },
    {
      "cell_type": "markdown",
      "metadata": {
        "id": "d65b9608-d5e2-4b31-a8ce-09231fafce5f"
      },
      "source": [
        "Copyright © IBM Corporation. All rights reserved.\n"
      ]
    }
  ],
  "metadata": {
    "kernelspec": {
      "display_name": "Python 3 (ipykernel)",
      "language": "python",
      "name": "python3"
    },
    "language_info": {
      "codemirror_mode": {
        "name": "ipython",
        "version": 3
      },
      "file_extension": ".py",
      "mimetype": "text/x-python",
      "name": "python",
      "nbconvert_exporter": "python",
      "pygments_lexer": "ipython3",
      "version": "3.11.9"
    },
    "prev_pub_hash": "1e8e234f19fd098e27b0518a87f18de690e1c51f1d3263d5690927d19971251e",
    "colab": {
      "provenance": []
    }
  },
  "nbformat": 4,
  "nbformat_minor": 0
}